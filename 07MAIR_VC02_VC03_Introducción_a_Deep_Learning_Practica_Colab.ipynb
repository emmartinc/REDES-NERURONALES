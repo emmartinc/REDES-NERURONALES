{
  "nbformat": 4,
  "nbformat_minor": 0,
  "metadata": {
    "colab": {
      "provenance": []
    },
    "kernelspec": {
      "name": "python3",
      "display_name": "Python 3"
    },
    "accelerator": "GPU"
  },
  "cells": [
    {
      "cell_type": "markdown",
      "metadata": {
        "id": "e-Xr73DZ8CGE"
      },
      "source": [
        "## **NUESTRA PRIMERA RED NEURONAL: MNIST DATASET**"
      ]
    },
    {
      "cell_type": "markdown",
      "source": [
        "Inspeccionar liberrías y versiones en el entorno de Google Colab"
      ],
      "metadata": {
        "id": "uBwch7BUVqiF"
      }
    },
    {
      "cell_type": "code",
      "metadata": {
        "id": "AMjhP1vDde1e"
      },
      "source": [],
      "execution_count": null,
      "outputs": []
    },
    {
      "cell_type": "markdown",
      "metadata": {
        "id": "BGr4or3pd8Ql"
      },
      "source": [
        "Importar liberías más importantes y ver versión."
      ]
    },
    {
      "cell_type": "code",
      "metadata": {
        "id": "76L_IBAfwr5y"
      },
      "source": [],
      "execution_count": null,
      "outputs": []
    },
    {
      "cell_type": "markdown",
      "metadata": {
        "id": "Cm6TBi8k8pnq"
      },
      "source": [
        "#### **- Cargando el conjunto de datos**"
      ]
    },
    {
      "cell_type": "code",
      "metadata": {
        "id": "Q97EgDoewMWu"
      },
      "source": [
        "# Importamos el dataset MNIST y cargamos los datos\n"
      ],
      "execution_count": null,
      "outputs": []
    },
    {
      "cell_type": "markdown",
      "metadata": {
        "id": "UHWTjTJe80h7"
      },
      "source": [
        "#### **- Inspeccionando el conjunto de datos**"
      ]
    },
    {
      "cell_type": "code",
      "metadata": {
        "id": "yQydjXExS1hI"
      },
      "source": [
        "import matplotlib.pyplot as plt\n",
        "# Función auxiliar para visualizar datos de entrenamiento de manera aleatoria\n",
        "def display_digit(num):\n",
        "  # Seleccionar la imagen num de mnist.train.images y hacer un reshape al tamaño de la imagen\n",
        "\n",
        "  # Seleccionar el target num de mnist.train.labels\n",
        "\n",
        "  # Mostrar\n",
        "  plt.title('Example: %d  Label: %d' % (num, label))\n",
        "  plt.imshow(image, cmap=plt.get_cmap('gray_r'))\n",
        "  plt.show()\n",
        "\n",
        "# Mostramos algunos ejemplos\n",
        "display_digit(np.random.randint(0, x_train.shape[0]))\n",
        "display_digit(np.random.randint(0, x_train.shape[0]))\n",
        "display_digit(np.random.randint(0, x_train.shape[0]))"
      ],
      "execution_count": null,
      "outputs": []
    },
    {
      "cell_type": "markdown",
      "metadata": {
        "id": "meo3FjAr85We"
      },
      "source": [
        "#### **- Acondicionando el conjunto de datos**"
      ]
    },
    {
      "cell_type": "code",
      "metadata": {
        "id": "PrtVcOxow_JA"
      },
      "source": [
        "# Pre-procesado obligatorio cuando trabajo con redes neuronales\n"
      ],
      "execution_count": null,
      "outputs": []
    },
    {
      "cell_type": "markdown",
      "metadata": {
        "id": "YBO56FZh89P3"
      },
      "source": [
        "#### **- Creando la topología de Red Neuronal (MLP) y entrenándola**"
      ]
    },
    {
      "cell_type": "code",
      "source": [
        "# Arquitectura\n",
        "\n",
        "# Printear modelo"
      ],
      "metadata": {
        "id": "c4PKrtsLoUgH"
      },
      "execution_count": null,
      "outputs": []
    },
    {
      "cell_type": "code",
      "metadata": {
        "id": "y0x4icp30SGE"
      },
      "source": [
        "# Optimizador"
      ],
      "execution_count": null,
      "outputs": []
    },
    {
      "cell_type": "code",
      "source": [
        "# Compilar"
      ],
      "metadata": {
        "id": "-alD1Ql-oYy6"
      },
      "execution_count": null,
      "outputs": []
    },
    {
      "cell_type": "code",
      "metadata": {
        "id": "iSWwUUWM1W7a"
      },
      "source": [
        "# Entrenamiento"
      ],
      "execution_count": null,
      "outputs": []
    },
    {
      "cell_type": "markdown",
      "metadata": {
        "id": "EtR8fpxq9JRG"
      },
      "source": [
        "#### **- Observando el proceso de entrenamiento para tomar decisiones**"
      ]
    },
    {
      "cell_type": "code",
      "metadata": {
        "id": "R7OoJts-122A"
      },
      "source": [
        "# Muestro gráfica de accuracy y losses"
      ],
      "execution_count": null,
      "outputs": []
    },
    {
      "cell_type": "markdown",
      "metadata": {
        "id": "7ll4EzHI9Of5"
      },
      "source": [
        "#### **- Probando el conjunto de datos en el subset de test y evaluando el performance del modelo**"
      ]
    },
    {
      "cell_type": "code",
      "metadata": {
        "id": "7J38sfBN742h"
      },
      "source": [
        "# Evaluando el modelo de predicción con las imágenes de test\n"
      ],
      "execution_count": null,
      "outputs": []
    },
    {
      "cell_type": "markdown",
      "metadata": {
        "id": "zQ5iYaP4-TdJ"
      },
      "source": [
        "--------------------------------------------------------------------------"
      ]
    },
    {
      "cell_type": "markdown",
      "metadata": {
        "id": "gkAfYEmB-KGU"
      },
      "source": [
        "## **MLP APLICADO A TEXTO: EJEMPLO REUTERS**"
      ]
    },
    {
      "cell_type": "markdown",
      "metadata": {
        "id": "rtdAIq1JQPNA"
      },
      "source": [
        "#### **- Cargando el conjunto de datos**"
      ]
    },
    {
      "cell_type": "code",
      "metadata": {
        "id": "2mHvSYFm-Sp_"
      },
      "source": [
        "import numpy as np\n",
        "import tensorflow as tf\n",
        "# Importamos el dataset REUTERS y cargamos los datos\n",
        "reuters = tf.keras.datasets.reuters\n",
        "WORD_LIMIT = 10000\n",
        "(training_data, training_labels), (testing_data, testing_labels) = reuters.load_data(num_words=WORD_LIMIT)\n",
        "print(training_data.shape)\n",
        "print(training_labels.shape)\n",
        "print(testing_data.shape)\n",
        "print(testing_labels.shape)"
      ],
      "execution_count": null,
      "outputs": []
    },
    {
      "cell_type": "markdown",
      "metadata": {
        "id": "426afMQqQUxn"
      },
      "source": [
        "#### **- Inspeccionando el conjunto de datos**"
      ]
    },
    {
      "cell_type": "code",
      "metadata": {
        "id": "Ab4lT3HI-reW"
      },
      "source": [
        "# Los datos son numericos para decodificarlos, se puede usar reuters.get_word_index()\n",
        "word_index = reuters.get_word_index()\n",
        "reverse_word_index = dict({value : key for key, value in word_index.items()})\n",
        "decoded = ' '.join(\n",
        "    [reverse_word_index.get(i-3,'?') for i in training_data[5248]]\n",
        ")\n",
        "decoded"
      ],
      "execution_count": null,
      "outputs": []
    },
    {
      "cell_type": "markdown",
      "metadata": {
        "id": "Hl1Ke92bQiI2"
      },
      "source": [
        "#### **- Acondicionando el conjunto de datos**"
      ]
    },
    {
      "cell_type": "code",
      "metadata": {
        "id": "I5ojr41ZAE6G"
      },
      "source": [
        "# Función auxiliar para representar las palabras (que no entiende nuestra red neuronal) en números\n",
        "import numpy as np\n",
        "# one hot encoding del input, vector con cada indice indicando si una palabra esta presente\n",
        "def one_hot_encode(data):\n",
        "    encoded = np.zeros((len(data),WORD_LIMIT))\n",
        "    for i, v in enumerate(data):\n",
        "        encoded[i,v] = 1 # localiza las columnas del genero correspondiente, marca con 1\n",
        "    return encoded"
      ],
      "execution_count": null,
      "outputs": []
    },
    {
      "cell_type": "code",
      "metadata": {
        "id": "4wubOmYpBgAY"
      },
      "source": [
        "# Convertimos nuestras palabras a números\n",
        "x_train = one_hot_encode(training_data)\n",
        "x_test = one_hot_encode(testing_data)\n",
        "print(x_train.shape)\n",
        "print(x_test.shape)"
      ],
      "execution_count": null,
      "outputs": []
    },
    {
      "cell_type": "markdown",
      "metadata": {
        "id": "qf2H-OHKQrGN"
      },
      "source": [
        "#### **- Creando la topología de Red Neuronal (MLP) y entrenándola**"
      ]
    },
    {
      "cell_type": "code",
      "metadata": {
        "id": "QSR1GEq0_Ebm"
      },
      "source": [
        "# Vamos a codificar la topología de nuestro MLP\n"
      ],
      "execution_count": null,
      "outputs": []
    },
    {
      "cell_type": "code",
      "metadata": {
        "id": "POnCbSEzCI7o"
      },
      "source": [
        "# Ahora que tengo definida la arquitectura, la compilo\n"
      ],
      "execution_count": null,
      "outputs": []
    },
    {
      "cell_type": "code",
      "metadata": {
        "id": "VZBvK2HjDCaZ"
      },
      "source": [
        "# A entrenar nuestra red neuronal sea dicho!\n"
      ],
      "execution_count": null,
      "outputs": []
    },
    {
      "cell_type": "markdown",
      "metadata": {
        "id": "0WZi4xSxQwGR"
      },
      "source": [
        "#### **- Observando el proceso de entrenamiento para tomar decisiones**"
      ]
    },
    {
      "cell_type": "code",
      "metadata": {
        "id": "0dlv_bkZDVJ7"
      },
      "source": [
        "# Muestro gráfica de accuracy y losses\n"
      ],
      "execution_count": null,
      "outputs": []
    },
    {
      "cell_type": "markdown",
      "metadata": {
        "id": "c51cfGAQQ2cR"
      },
      "source": [
        "#### **- Probando el conjunto de datos en el subset de test y evaluando el performance del modelo**"
      ]
    },
    {
      "cell_type": "code",
      "metadata": {
        "id": "xVS5SAU5DlHP"
      },
      "source": [
        "# Evaluando el modelo de predicción con las imágenes de test\n"
      ],
      "execution_count": null,
      "outputs": []
    },
    {
      "cell_type": "markdown",
      "metadata": {
        "id": "s8kmri-kUYgx"
      },
      "source": [
        "## **REGULARIZACIÓN EN APRENDIZAJE PROFUNDO**"
      ]
    },
    {
      "cell_type": "markdown",
      "metadata": {
        "id": "aqDYEumsUuNU"
      },
      "source": [
        "#### **- Weight regularization L1/L2**"
      ]
    },
    {
      "cell_type": "code",
      "metadata": {
        "id": "BF2YYooRUNph"
      },
      "source": [
        "# Vamos a codificar la topología de nuestro MLP\n"
      ],
      "execution_count": null,
      "outputs": []
    },
    {
      "cell_type": "code",
      "metadata": {
        "id": "KYeK7jwxVSF3"
      },
      "source": [
        "# Ahora que tengo definida la arquitectura, la compilo\n"
      ],
      "execution_count": null,
      "outputs": []
    },
    {
      "cell_type": "code",
      "metadata": {
        "id": "gWE7GTTmVdP0"
      },
      "source": [
        "# A entrenar nuestra red neuronal sea dicho!\n"
      ],
      "execution_count": null,
      "outputs": []
    },
    {
      "cell_type": "code",
      "metadata": {
        "id": "iJvo8YVvVowt"
      },
      "source": [
        "# Muestro gráfica de accuracy y losses\n"
      ],
      "execution_count": null,
      "outputs": []
    },
    {
      "cell_type": "code",
      "metadata": {
        "id": "h_68GciZWEml"
      },
      "source": [
        "# Evaluando el modelo de predicción con las imágenes de test\n"
      ],
      "execution_count": null,
      "outputs": []
    },
    {
      "cell_type": "markdown",
      "metadata": {
        "id": "FKflRMxEWQ3Z"
      },
      "source": [
        "#### **- Dropout**"
      ]
    },
    {
      "cell_type": "code",
      "metadata": {
        "id": "iRcnwjCCWVcW"
      },
      "source": [
        "# Vamos a codificar la topología de nuestro MLP\n"
      ],
      "execution_count": null,
      "outputs": []
    },
    {
      "cell_type": "code",
      "metadata": {
        "id": "6K_X-SnoWnqL"
      },
      "source": [
        "# Ahora que tengo definida la arquitectura, la compilo\n"
      ],
      "execution_count": null,
      "outputs": []
    },
    {
      "cell_type": "code",
      "metadata": {
        "id": "5GSMILsYWsT8"
      },
      "source": [
        "# A entrenar nuestra red neuronal sea dicho!\n"
      ],
      "execution_count": null,
      "outputs": []
    },
    {
      "cell_type": "code",
      "metadata": {
        "id": "ACSQkFMtW2Eg"
      },
      "source": [
        "# Muestro gráfica de accuracy y losses\n"
      ],
      "execution_count": null,
      "outputs": []
    },
    {
      "cell_type": "code",
      "metadata": {
        "id": "KzK4LsLmW2es"
      },
      "source": [
        "# Evaluando el modelo de predicción con las imágenes de test\n"
      ],
      "execution_count": null,
      "outputs": []
    },
    {
      "cell_type": "markdown",
      "metadata": {
        "id": "6iixwidpaJSH"
      },
      "source": [
        "#### **- Batch Normalization**"
      ]
    },
    {
      "cell_type": "code",
      "metadata": {
        "id": "kX7JV1leaJrj"
      },
      "source": [
        "# Vamos a codificar la topología de nuestro MLP\n"
      ],
      "execution_count": null,
      "outputs": []
    },
    {
      "cell_type": "code",
      "metadata": {
        "id": "iEW9qiRzbtpk"
      },
      "source": [
        "# Ahora que tengo definida la arquitectura, la compilo\n"
      ],
      "execution_count": null,
      "outputs": []
    },
    {
      "cell_type": "code",
      "metadata": {
        "id": "Ey72ZUlJbwPK"
      },
      "source": [
        "# A entrenar nuestra red neuronal sea dicho!\n"
      ],
      "execution_count": null,
      "outputs": []
    },
    {
      "cell_type": "code",
      "metadata": {
        "id": "WE6c1PHIbybn"
      },
      "source": [
        "# Muestro gráfica de accuracy y losses\n"
      ],
      "execution_count": null,
      "outputs": []
    },
    {
      "cell_type": "code",
      "metadata": {
        "id": "7AY7mJ3mb1C1"
      },
      "source": [
        "# Evaluando el modelo de predicción con las imágenes de test\n"
      ],
      "execution_count": null,
      "outputs": []
    }
  ]
}